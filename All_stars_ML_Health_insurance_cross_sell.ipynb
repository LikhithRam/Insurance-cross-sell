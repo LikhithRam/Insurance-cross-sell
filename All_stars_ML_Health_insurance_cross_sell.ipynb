{
  "cells": [
    {
      "cell_type": "markdown",
      "metadata": {
        "id": "view-in-github",
        "colab_type": "text"
      },
      "source": [
        "<a href=\"https://colab.research.google.com/github/LikhithRam/Insurance-cross-sell/blob/main/All_stars_ML_Health_insurance_cross_sell.ipynb\" target=\"_parent\"><img src=\"https://colab.research.google.com/assets/colab-badge.svg\" alt=\"Open In Colab\"/></a>"
      ]
    },
    {
      "cell_type": "markdown",
      "metadata": {
        "id": "LGcl5Bv9ed6u"
      },
      "source": [
        "# **Problem Statement**"
      ]
    },
    {
      "cell_type": "markdown",
      "metadata": {
        "id": "jJAmGx75jJk1"
      },
      "source": [
        "Our client is an Insurance company that has provided Health Insurance to its customers now they need your help in building a model to predict whether the policyholders (customers) from past year will also be interested in Vehicle Insurance provided by the company.\n",
        "\n",
        "An insurance policy is an arrangement by which a company undertakes to provide a guarantee of compensation for specified loss, damage, illness, or death in return for the payment of a specified premium. A premium is a sum of money that the customer needs to pay regularly to an insurance company for this guarantee.\n",
        "\n",
        "For example, you may pay a premium of Rs. 5000 each year for a health insurance cover of Rs. 200,000/- so that if, God forbid, you fall ill and need to be hospitalised in that year, the insurance provider company will bear the cost of hospitalisation etc. for upto Rs. 200,000. Now if you are wondering how can company bear such high hospitalisation cost when it charges a premium of only Rs. 5000/-, that is where the concept of probabilities comes in picture. For example, like you, there may be 100 customers who would be paying a premium of Rs. 5000 every year, but only a few of them (say 2-3) would get hospitalised that year and not everyone. This way everyone shares the risk of everyone else.\n",
        "\n",
        "Just like medical insurance, there is vehicle insurance where every year customer needs to pay a premium of certain amount to insurance provider company so that in case of unfortunate accident by the vehicle, the insurance provider company will provide a compensation (called ‘sum assured’) to the customer.\n",
        "\n",
        "Building a model to predict whether a customer would be interested in Vehicle Insurance is extremely helpful for the company because it can then accordingly plan its communication strategy to reach out to those customers and optimise its business model and revenue.\n",
        "\n",
        "Now, in order to predict, whether the customer would be interested in Vehicle insurance, you have information about demographics (gender, age, region code type), Vehicles (Vehicle Age, Damage), Policy (Premium, sourcing channel) etc."
      ]
    },
    {
      "cell_type": "markdown",
      "metadata": {
        "id": "1WHeqiJ1494M"
      },
      "source": [
        "# <b> Business Goal </b>\n",
        "Building a model to see whether a client would be keen on Vehicle Insurance is very useful for the organization since it can then accordingly plan its marketing strategy to connect with those clients and advance its plan of action and income.\n"
      ]
    },
    {
      "cell_type": "markdown",
      "metadata": {
        "id": "AzGDqdC4fZ-b"
      },
      "source": [
        "# **Attribute Information**"
      ]
    },
    {
      "cell_type": "markdown",
      "metadata": {
        "id": "oEJxl68MjYbs"
      },
      "source": [
        "1. id :\tUnique ID for the customer\n",
        "\n",
        "2. Gender\t: Gender of the customer\n",
        "\n",
        "3. Age :\tAge of the customer\n",
        "\n",
        "4. Driving_License\t0 : Customer does not have DL, 1 : Customer already has DL\n",
        "\n",
        "5. Region_Code :\tUnique code for the region of the customer\n",
        "\n",
        "6. Previously_Insured\t: 1 : Customer already has Vehicle Insurance, 0 : Customer doesn't have Vehicle Insurance\n",
        "\n",
        "7. Vehicle_Age :\tAge of the Vehicle\n",
        "\n",
        "8. Vehicle_Damage\t :1 : Customer got his/her vehicle damaged in the past. 0 : Customer didn't get his/her vehicle damaged in the past.\n",
        "\n",
        "9. Annual_Premium\t: The amount customer needs to pay as premium in the year\n",
        "\n",
        "10. PolicySalesChannel :\tAnonymized Code for the channel of outreaching to the customer ie. Different Agents, Over Mail, Over Phone, In Person, etc.\n",
        "\n",
        "11. Vintage :\tNumber of Days, Customer has been associated with the company\n",
        "\n",
        "12. Response :\t1 : Customer is interested, 0 : Customer is not interested"
      ]
    },
    {
      "cell_type": "code",
      "execution_count": 4,
      "metadata": {
        "id": "L1SDGf4lgIlD"
      },
      "outputs": [],
      "source": [
        "#importing necessary libraries\n",
        "import pandas as pd\n",
        "import numpy as np\n",
        "import matplotlib.pyplot as plt\n",
        "import seaborn as sns\n",
        "sns.set_style(\"darkgrid\")\n",
        "from sklearn.preprocessing import LabelEncoder\n",
        "from sklearn.model_selection import train_test_split\n",
        "from imblearn.over_sampling import RandomOverSampler\n",
        "from collections import Counter\n",
        "from sklearn.preprocessing import StandardScaler\n",
        "\n",
        "# Models Importing\n",
        "from sklearn.linear_model import LogisticRegression\n",
        "from sklearn.metrics import precision_score"
      ]
    },
    {
      "cell_type": "code",
      "execution_count": 5,
      "metadata": {
        "colab": {
          "base_uri": "https://localhost:8080/"
        },
        "id": "jRU_SjRxjp_x",
        "outputId": "c4ee40f0-6f18-440f-f29f-e9f3f3f0499d"
      },
      "outputs": [
        {
          "output_type": "stream",
          "name": "stdout",
          "text": [
            "Drive already mounted at /content/drive; to attempt to forcibly remount, call drive.mount(\"/content/drive\", force_remount=True).\n"
          ]
        }
      ],
      "source": [
        "#importing the dataset\n",
        "from google.colab import drive\n",
        "drive.mount('/content/drive')"
      ]
    },
    {
      "cell_type": "code",
      "execution_count": 6,
      "metadata": {
        "id": "ZDmp6S6vg5t9"
      },
      "outputs": [],
      "source": [
        "df = pd.read_csv('/content/drive/MyDrive/Copy of TRAIN-HEALTH INSURANCE CROSS SELL PREDICTION.csv')"
      ]
    },
    {
      "cell_type": "code",
      "execution_count": 7,
      "metadata": {
        "colab": {
          "base_uri": "https://localhost:8080/",
          "height": 206
        },
        "id": "oMmSCEi8kEeC",
        "outputId": "1152a677-c758-4326-ed82-e8ad3d4dedd8"
      },
      "outputs": [
        {
          "output_type": "execute_result",
          "data": {
            "text/html": [
              "\n",
              "  <div id=\"df-e8e12433-4003-4452-9efc-87bffa782186\">\n",
              "    <div class=\"colab-df-container\">\n",
              "      <div>\n",
              "<style scoped>\n",
              "    .dataframe tbody tr th:only-of-type {\n",
              "        vertical-align: middle;\n",
              "    }\n",
              "\n",
              "    .dataframe tbody tr th {\n",
              "        vertical-align: top;\n",
              "    }\n",
              "\n",
              "    .dataframe thead th {\n",
              "        text-align: right;\n",
              "    }\n",
              "</style>\n",
              "<table border=\"1\" class=\"dataframe\">\n",
              "  <thead>\n",
              "    <tr style=\"text-align: right;\">\n",
              "      <th></th>\n",
              "      <th>id</th>\n",
              "      <th>Gender</th>\n",
              "      <th>Age</th>\n",
              "      <th>Driving_License</th>\n",
              "      <th>Region_Code</th>\n",
              "      <th>Previously_Insured</th>\n",
              "      <th>Vehicle_Age</th>\n",
              "      <th>Vehicle_Damage</th>\n",
              "      <th>Annual_Premium</th>\n",
              "      <th>Policy_Sales_Channel</th>\n",
              "      <th>Vintage</th>\n",
              "      <th>Response</th>\n",
              "    </tr>\n",
              "  </thead>\n",
              "  <tbody>\n",
              "    <tr>\n",
              "      <th>0</th>\n",
              "      <td>1</td>\n",
              "      <td>Male</td>\n",
              "      <td>44</td>\n",
              "      <td>1</td>\n",
              "      <td>28.0</td>\n",
              "      <td>0</td>\n",
              "      <td>&gt; 2 Years</td>\n",
              "      <td>Yes</td>\n",
              "      <td>40454.0</td>\n",
              "      <td>26.0</td>\n",
              "      <td>217</td>\n",
              "      <td>1</td>\n",
              "    </tr>\n",
              "    <tr>\n",
              "      <th>1</th>\n",
              "      <td>2</td>\n",
              "      <td>Male</td>\n",
              "      <td>76</td>\n",
              "      <td>1</td>\n",
              "      <td>3.0</td>\n",
              "      <td>0</td>\n",
              "      <td>1-2 Year</td>\n",
              "      <td>No</td>\n",
              "      <td>33536.0</td>\n",
              "      <td>26.0</td>\n",
              "      <td>183</td>\n",
              "      <td>0</td>\n",
              "    </tr>\n",
              "    <tr>\n",
              "      <th>2</th>\n",
              "      <td>3</td>\n",
              "      <td>Male</td>\n",
              "      <td>47</td>\n",
              "      <td>1</td>\n",
              "      <td>28.0</td>\n",
              "      <td>0</td>\n",
              "      <td>&gt; 2 Years</td>\n",
              "      <td>Yes</td>\n",
              "      <td>38294.0</td>\n",
              "      <td>26.0</td>\n",
              "      <td>27</td>\n",
              "      <td>1</td>\n",
              "    </tr>\n",
              "    <tr>\n",
              "      <th>3</th>\n",
              "      <td>4</td>\n",
              "      <td>Male</td>\n",
              "      <td>21</td>\n",
              "      <td>1</td>\n",
              "      <td>11.0</td>\n",
              "      <td>1</td>\n",
              "      <td>&lt; 1 Year</td>\n",
              "      <td>No</td>\n",
              "      <td>28619.0</td>\n",
              "      <td>152.0</td>\n",
              "      <td>203</td>\n",
              "      <td>0</td>\n",
              "    </tr>\n",
              "    <tr>\n",
              "      <th>4</th>\n",
              "      <td>5</td>\n",
              "      <td>Female</td>\n",
              "      <td>29</td>\n",
              "      <td>1</td>\n",
              "      <td>41.0</td>\n",
              "      <td>1</td>\n",
              "      <td>&lt; 1 Year</td>\n",
              "      <td>No</td>\n",
              "      <td>27496.0</td>\n",
              "      <td>152.0</td>\n",
              "      <td>39</td>\n",
              "      <td>0</td>\n",
              "    </tr>\n",
              "  </tbody>\n",
              "</table>\n",
              "</div>\n",
              "      <button class=\"colab-df-convert\" onclick=\"convertToInteractive('df-e8e12433-4003-4452-9efc-87bffa782186')\"\n",
              "              title=\"Convert this dataframe to an interactive table.\"\n",
              "              style=\"display:none;\">\n",
              "        \n",
              "  <svg xmlns=\"http://www.w3.org/2000/svg\" height=\"24px\"viewBox=\"0 0 24 24\"\n",
              "       width=\"24px\">\n",
              "    <path d=\"M0 0h24v24H0V0z\" fill=\"none\"/>\n",
              "    <path d=\"M18.56 5.44l.94 2.06.94-2.06 2.06-.94-2.06-.94-.94-2.06-.94 2.06-2.06.94zm-11 1L8.5 8.5l.94-2.06 2.06-.94-2.06-.94L8.5 2.5l-.94 2.06-2.06.94zm10 10l.94 2.06.94-2.06 2.06-.94-2.06-.94-.94-2.06-.94 2.06-2.06.94z\"/><path d=\"M17.41 7.96l-1.37-1.37c-.4-.4-.92-.59-1.43-.59-.52 0-1.04.2-1.43.59L10.3 9.45l-7.72 7.72c-.78.78-.78 2.05 0 2.83L4 21.41c.39.39.9.59 1.41.59.51 0 1.02-.2 1.41-.59l7.78-7.78 2.81-2.81c.8-.78.8-2.07 0-2.86zM5.41 20L4 18.59l7.72-7.72 1.47 1.35L5.41 20z\"/>\n",
              "  </svg>\n",
              "      </button>\n",
              "      \n",
              "  <style>\n",
              "    .colab-df-container {\n",
              "      display:flex;\n",
              "      flex-wrap:wrap;\n",
              "      gap: 12px;\n",
              "    }\n",
              "\n",
              "    .colab-df-convert {\n",
              "      background-color: #E8F0FE;\n",
              "      border: none;\n",
              "      border-radius: 50%;\n",
              "      cursor: pointer;\n",
              "      display: none;\n",
              "      fill: #1967D2;\n",
              "      height: 32px;\n",
              "      padding: 0 0 0 0;\n",
              "      width: 32px;\n",
              "    }\n",
              "\n",
              "    .colab-df-convert:hover {\n",
              "      background-color: #E2EBFA;\n",
              "      box-shadow: 0px 1px 2px rgba(60, 64, 67, 0.3), 0px 1px 3px 1px rgba(60, 64, 67, 0.15);\n",
              "      fill: #174EA6;\n",
              "    }\n",
              "\n",
              "    [theme=dark] .colab-df-convert {\n",
              "      background-color: #3B4455;\n",
              "      fill: #D2E3FC;\n",
              "    }\n",
              "\n",
              "    [theme=dark] .colab-df-convert:hover {\n",
              "      background-color: #434B5C;\n",
              "      box-shadow: 0px 1px 3px 1px rgba(0, 0, 0, 0.15);\n",
              "      filter: drop-shadow(0px 1px 2px rgba(0, 0, 0, 0.3));\n",
              "      fill: #FFFFFF;\n",
              "    }\n",
              "  </style>\n",
              "\n",
              "      <script>\n",
              "        const buttonEl =\n",
              "          document.querySelector('#df-e8e12433-4003-4452-9efc-87bffa782186 button.colab-df-convert');\n",
              "        buttonEl.style.display =\n",
              "          google.colab.kernel.accessAllowed ? 'block' : 'none';\n",
              "\n",
              "        async function convertToInteractive(key) {\n",
              "          const element = document.querySelector('#df-e8e12433-4003-4452-9efc-87bffa782186');\n",
              "          const dataTable =\n",
              "            await google.colab.kernel.invokeFunction('convertToInteractive',\n",
              "                                                     [key], {});\n",
              "          if (!dataTable) return;\n",
              "\n",
              "          const docLinkHtml = 'Like what you see? Visit the ' +\n",
              "            '<a target=\"_blank\" href=https://colab.research.google.com/notebooks/data_table.ipynb>data table notebook</a>'\n",
              "            + ' to learn more about interactive tables.';\n",
              "          element.innerHTML = '';\n",
              "          dataTable['output_type'] = 'display_data';\n",
              "          await google.colab.output.renderOutput(dataTable, element);\n",
              "          const docLink = document.createElement('div');\n",
              "          docLink.innerHTML = docLinkHtml;\n",
              "          element.appendChild(docLink);\n",
              "        }\n",
              "      </script>\n",
              "    </div>\n",
              "  </div>\n",
              "  "
            ],
            "text/plain": [
              "   id  Gender  Age  ...  Policy_Sales_Channel  Vintage  Response\n",
              "0   1    Male   44  ...                  26.0      217         1\n",
              "1   2    Male   76  ...                  26.0      183         0\n",
              "2   3    Male   47  ...                  26.0       27         1\n",
              "3   4    Male   21  ...                 152.0      203         0\n",
              "4   5  Female   29  ...                 152.0       39         0\n",
              "\n",
              "[5 rows x 12 columns]"
            ]
          },
          "metadata": {},
          "execution_count": 7
        }
      ],
      "source": [
        "df.head()"
      ]
    },
    {
      "cell_type": "code",
      "execution_count": 8,
      "metadata": {
        "colab": {
          "base_uri": "https://localhost:8080/",
          "height": 270
        },
        "id": "LkuGqm38kF80",
        "outputId": "2fe69ce2-296d-40bd-f472-a25db1a9b286"
      },
      "outputs": [
        {
          "output_type": "execute_result",
          "data": {
            "text/html": [
              "\n",
              "  <div id=\"df-5b374722-9266-4263-b767-7d691e1f4274\">\n",
              "    <div class=\"colab-df-container\">\n",
              "      <div>\n",
              "<style scoped>\n",
              "    .dataframe tbody tr th:only-of-type {\n",
              "        vertical-align: middle;\n",
              "    }\n",
              "\n",
              "    .dataframe tbody tr th {\n",
              "        vertical-align: top;\n",
              "    }\n",
              "\n",
              "    .dataframe thead th {\n",
              "        text-align: right;\n",
              "    }\n",
              "</style>\n",
              "<table border=\"1\" class=\"dataframe\">\n",
              "  <thead>\n",
              "    <tr style=\"text-align: right;\">\n",
              "      <th></th>\n",
              "      <th>id</th>\n",
              "      <th>Gender</th>\n",
              "      <th>Age</th>\n",
              "      <th>Driving_License</th>\n",
              "      <th>Region_Code</th>\n",
              "      <th>Previously_Insured</th>\n",
              "      <th>Vehicle_Age</th>\n",
              "      <th>Vehicle_Damage</th>\n",
              "      <th>Annual_Premium</th>\n",
              "      <th>Policy_Sales_Channel</th>\n",
              "      <th>Vintage</th>\n",
              "      <th>Response</th>\n",
              "    </tr>\n",
              "  </thead>\n",
              "  <tbody>\n",
              "    <tr>\n",
              "      <th>381104</th>\n",
              "      <td>381105</td>\n",
              "      <td>Male</td>\n",
              "      <td>74</td>\n",
              "      <td>1</td>\n",
              "      <td>26.0</td>\n",
              "      <td>1</td>\n",
              "      <td>1-2 Year</td>\n",
              "      <td>No</td>\n",
              "      <td>30170.0</td>\n",
              "      <td>26.0</td>\n",
              "      <td>88</td>\n",
              "      <td>0</td>\n",
              "    </tr>\n",
              "    <tr>\n",
              "      <th>381105</th>\n",
              "      <td>381106</td>\n",
              "      <td>Male</td>\n",
              "      <td>30</td>\n",
              "      <td>1</td>\n",
              "      <td>37.0</td>\n",
              "      <td>1</td>\n",
              "      <td>&lt; 1 Year</td>\n",
              "      <td>No</td>\n",
              "      <td>40016.0</td>\n",
              "      <td>152.0</td>\n",
              "      <td>131</td>\n",
              "      <td>0</td>\n",
              "    </tr>\n",
              "    <tr>\n",
              "      <th>381106</th>\n",
              "      <td>381107</td>\n",
              "      <td>Male</td>\n",
              "      <td>21</td>\n",
              "      <td>1</td>\n",
              "      <td>30.0</td>\n",
              "      <td>1</td>\n",
              "      <td>&lt; 1 Year</td>\n",
              "      <td>No</td>\n",
              "      <td>35118.0</td>\n",
              "      <td>160.0</td>\n",
              "      <td>161</td>\n",
              "      <td>0</td>\n",
              "    </tr>\n",
              "    <tr>\n",
              "      <th>381107</th>\n",
              "      <td>381108</td>\n",
              "      <td>Female</td>\n",
              "      <td>68</td>\n",
              "      <td>1</td>\n",
              "      <td>14.0</td>\n",
              "      <td>0</td>\n",
              "      <td>&gt; 2 Years</td>\n",
              "      <td>Yes</td>\n",
              "      <td>44617.0</td>\n",
              "      <td>124.0</td>\n",
              "      <td>74</td>\n",
              "      <td>0</td>\n",
              "    </tr>\n",
              "    <tr>\n",
              "      <th>381108</th>\n",
              "      <td>381109</td>\n",
              "      <td>Male</td>\n",
              "      <td>46</td>\n",
              "      <td>1</td>\n",
              "      <td>29.0</td>\n",
              "      <td>0</td>\n",
              "      <td>1-2 Year</td>\n",
              "      <td>No</td>\n",
              "      <td>41777.0</td>\n",
              "      <td>26.0</td>\n",
              "      <td>237</td>\n",
              "      <td>0</td>\n",
              "    </tr>\n",
              "  </tbody>\n",
              "</table>\n",
              "</div>\n",
              "      <button class=\"colab-df-convert\" onclick=\"convertToInteractive('df-5b374722-9266-4263-b767-7d691e1f4274')\"\n",
              "              title=\"Convert this dataframe to an interactive table.\"\n",
              "              style=\"display:none;\">\n",
              "        \n",
              "  <svg xmlns=\"http://www.w3.org/2000/svg\" height=\"24px\"viewBox=\"0 0 24 24\"\n",
              "       width=\"24px\">\n",
              "    <path d=\"M0 0h24v24H0V0z\" fill=\"none\"/>\n",
              "    <path d=\"M18.56 5.44l.94 2.06.94-2.06 2.06-.94-2.06-.94-.94-2.06-.94 2.06-2.06.94zm-11 1L8.5 8.5l.94-2.06 2.06-.94-2.06-.94L8.5 2.5l-.94 2.06-2.06.94zm10 10l.94 2.06.94-2.06 2.06-.94-2.06-.94-.94-2.06-.94 2.06-2.06.94z\"/><path d=\"M17.41 7.96l-1.37-1.37c-.4-.4-.92-.59-1.43-.59-.52 0-1.04.2-1.43.59L10.3 9.45l-7.72 7.72c-.78.78-.78 2.05 0 2.83L4 21.41c.39.39.9.59 1.41.59.51 0 1.02-.2 1.41-.59l7.78-7.78 2.81-2.81c.8-.78.8-2.07 0-2.86zM5.41 20L4 18.59l7.72-7.72 1.47 1.35L5.41 20z\"/>\n",
              "  </svg>\n",
              "      </button>\n",
              "      \n",
              "  <style>\n",
              "    .colab-df-container {\n",
              "      display:flex;\n",
              "      flex-wrap:wrap;\n",
              "      gap: 12px;\n",
              "    }\n",
              "\n",
              "    .colab-df-convert {\n",
              "      background-color: #E8F0FE;\n",
              "      border: none;\n",
              "      border-radius: 50%;\n",
              "      cursor: pointer;\n",
              "      display: none;\n",
              "      fill: #1967D2;\n",
              "      height: 32px;\n",
              "      padding: 0 0 0 0;\n",
              "      width: 32px;\n",
              "    }\n",
              "\n",
              "    .colab-df-convert:hover {\n",
              "      background-color: #E2EBFA;\n",
              "      box-shadow: 0px 1px 2px rgba(60, 64, 67, 0.3), 0px 1px 3px 1px rgba(60, 64, 67, 0.15);\n",
              "      fill: #174EA6;\n",
              "    }\n",
              "\n",
              "    [theme=dark] .colab-df-convert {\n",
              "      background-color: #3B4455;\n",
              "      fill: #D2E3FC;\n",
              "    }\n",
              "\n",
              "    [theme=dark] .colab-df-convert:hover {\n",
              "      background-color: #434B5C;\n",
              "      box-shadow: 0px 1px 3px 1px rgba(0, 0, 0, 0.15);\n",
              "      filter: drop-shadow(0px 1px 2px rgba(0, 0, 0, 0.3));\n",
              "      fill: #FFFFFF;\n",
              "    }\n",
              "  </style>\n",
              "\n",
              "      <script>\n",
              "        const buttonEl =\n",
              "          document.querySelector('#df-5b374722-9266-4263-b767-7d691e1f4274 button.colab-df-convert');\n",
              "        buttonEl.style.display =\n",
              "          google.colab.kernel.accessAllowed ? 'block' : 'none';\n",
              "\n",
              "        async function convertToInteractive(key) {\n",
              "          const element = document.querySelector('#df-5b374722-9266-4263-b767-7d691e1f4274');\n",
              "          const dataTable =\n",
              "            await google.colab.kernel.invokeFunction('convertToInteractive',\n",
              "                                                     [key], {});\n",
              "          if (!dataTable) return;\n",
              "\n",
              "          const docLinkHtml = 'Like what you see? Visit the ' +\n",
              "            '<a target=\"_blank\" href=https://colab.research.google.com/notebooks/data_table.ipynb>data table notebook</a>'\n",
              "            + ' to learn more about interactive tables.';\n",
              "          element.innerHTML = '';\n",
              "          dataTable['output_type'] = 'display_data';\n",
              "          await google.colab.output.renderOutput(dataTable, element);\n",
              "          const docLink = document.createElement('div');\n",
              "          docLink.innerHTML = docLinkHtml;\n",
              "          element.appendChild(docLink);\n",
              "        }\n",
              "      </script>\n",
              "    </div>\n",
              "  </div>\n",
              "  "
            ],
            "text/plain": [
              "            id  Gender  Age  ...  Policy_Sales_Channel  Vintage  Response\n",
              "381104  381105    Male   74  ...                  26.0       88         0\n",
              "381105  381106    Male   30  ...                 152.0      131         0\n",
              "381106  381107    Male   21  ...                 160.0      161         0\n",
              "381107  381108  Female   68  ...                 124.0       74         0\n",
              "381108  381109    Male   46  ...                  26.0      237         0\n",
              "\n",
              "[5 rows x 12 columns]"
            ]
          },
          "metadata": {},
          "execution_count": 8
        }
      ],
      "source": [
        "df.tail()"
      ]
    },
    {
      "cell_type": "markdown",
      "metadata": {
        "id": "shoSPujZ5INl"
      },
      "source": [
        "# Step 1 : Statistical Inference and Data pre-processing"
      ]
    },
    {
      "cell_type": "code",
      "execution_count": 9,
      "metadata": {
        "colab": {
          "base_uri": "https://localhost:8080/"
        },
        "id": "KEqAHouXl5tG",
        "outputId": "fdba5188-bf6a-459d-84b8-7c54abbd4350"
      },
      "outputs": [
        {
          "output_type": "stream",
          "name": "stdout",
          "text": [
            "rows:  381109\n",
            "columns:  12\n"
          ]
        }
      ],
      "source": [
        "#Total Observations\n",
        "print(\"rows: \", df.shape[0])\n",
        "\n",
        "#Total Features\n",
        "print(\"columns: \", df.shape[1])"
      ]
    },
    {
      "cell_type": "code",
      "execution_count": 10,
      "metadata": {
        "colab": {
          "base_uri": "https://localhost:8080/"
        },
        "id": "8LIZ_4Hf1ax5",
        "outputId": "30527afe-ba84-4a59-b48d-66d5be7d0dfa"
      },
      "outputs": [
        {
          "output_type": "stream",
          "name": "stdout",
          "text": [
            "<class 'pandas.core.frame.DataFrame'>\n",
            "RangeIndex: 381109 entries, 0 to 381108\n",
            "Data columns (total 12 columns):\n",
            " #   Column                Non-Null Count   Dtype  \n",
            "---  ------                --------------   -----  \n",
            " 0   id                    381109 non-null  int64  \n",
            " 1   Gender                381109 non-null  object \n",
            " 2   Age                   381109 non-null  int64  \n",
            " 3   Driving_License       381109 non-null  int64  \n",
            " 4   Region_Code           381109 non-null  float64\n",
            " 5   Previously_Insured    381109 non-null  int64  \n",
            " 6   Vehicle_Age           381109 non-null  object \n",
            " 7   Vehicle_Damage        381109 non-null  object \n",
            " 8   Annual_Premium        381109 non-null  float64\n",
            " 9   Policy_Sales_Channel  381109 non-null  float64\n",
            " 10  Vintage               381109 non-null  int64  \n",
            " 11  Response              381109 non-null  int64  \n",
            "dtypes: float64(3), int64(6), object(3)\n",
            "memory usage: 34.9+ MB\n"
          ]
        }
      ],
      "source": [
        "#Overview of given dataset\n",
        "df.info()"
      ]
    },
    {
      "cell_type": "code",
      "execution_count": 11,
      "metadata": {
        "colab": {
          "base_uri": "https://localhost:8080/"
        },
        "id": "SeHKPTLQ1qHl",
        "outputId": "ee9f8c87-13ae-4a4b-a4fd-c0948faee345"
      },
      "outputs": [
        {
          "output_type": "execute_result",
          "data": {
            "text/plain": [
              "id                        int64\n",
              "Gender                   object\n",
              "Age                       int64\n",
              "Driving_License           int64\n",
              "Region_Code             float64\n",
              "Previously_Insured        int64\n",
              "Vehicle_Age              object\n",
              "Vehicle_Damage           object\n",
              "Annual_Premium          float64\n",
              "Policy_Sales_Channel    float64\n",
              "Vintage                   int64\n",
              "Response                  int64\n",
              "dtype: object"
            ]
          },
          "metadata": {},
          "execution_count": 11
        }
      ],
      "source": [
        "#Checking for data types of features given in the dataset\n",
        "df.dtypes"
      ]
    },
    {
      "cell_type": "code",
      "execution_count": 12,
      "metadata": {
        "colab": {
          "base_uri": "https://localhost:8080/",
          "height": 300
        },
        "id": "m-mlVWGP5OpG",
        "outputId": "f13048b4-e58b-4cf7-9941-cd619af667c0"
      },
      "outputs": [
        {
          "output_type": "execute_result",
          "data": {
            "text/html": [
              "\n",
              "  <div id=\"df-4329a945-3b07-4725-8009-60a9540f52bb\">\n",
              "    <div class=\"colab-df-container\">\n",
              "      <div>\n",
              "<style scoped>\n",
              "    .dataframe tbody tr th:only-of-type {\n",
              "        vertical-align: middle;\n",
              "    }\n",
              "\n",
              "    .dataframe tbody tr th {\n",
              "        vertical-align: top;\n",
              "    }\n",
              "\n",
              "    .dataframe thead th {\n",
              "        text-align: right;\n",
              "    }\n",
              "</style>\n",
              "<table border=\"1\" class=\"dataframe\">\n",
              "  <thead>\n",
              "    <tr style=\"text-align: right;\">\n",
              "      <th></th>\n",
              "      <th>id</th>\n",
              "      <th>Age</th>\n",
              "      <th>Driving_License</th>\n",
              "      <th>Region_Code</th>\n",
              "      <th>Previously_Insured</th>\n",
              "      <th>Annual_Premium</th>\n",
              "      <th>Policy_Sales_Channel</th>\n",
              "      <th>Vintage</th>\n",
              "      <th>Response</th>\n",
              "    </tr>\n",
              "  </thead>\n",
              "  <tbody>\n",
              "    <tr>\n",
              "      <th>count</th>\n",
              "      <td>381109.000000</td>\n",
              "      <td>381109.000000</td>\n",
              "      <td>381109.000000</td>\n",
              "      <td>381109.000000</td>\n",
              "      <td>381109.000000</td>\n",
              "      <td>381109.000000</td>\n",
              "      <td>381109.000000</td>\n",
              "      <td>381109.000000</td>\n",
              "      <td>381109.000000</td>\n",
              "    </tr>\n",
              "    <tr>\n",
              "      <th>mean</th>\n",
              "      <td>190555.000000</td>\n",
              "      <td>38.822584</td>\n",
              "      <td>0.997869</td>\n",
              "      <td>26.388807</td>\n",
              "      <td>0.458210</td>\n",
              "      <td>30564.389581</td>\n",
              "      <td>112.034295</td>\n",
              "      <td>154.347397</td>\n",
              "      <td>0.122563</td>\n",
              "    </tr>\n",
              "    <tr>\n",
              "      <th>std</th>\n",
              "      <td>110016.836208</td>\n",
              "      <td>15.511611</td>\n",
              "      <td>0.046110</td>\n",
              "      <td>13.229888</td>\n",
              "      <td>0.498251</td>\n",
              "      <td>17213.155057</td>\n",
              "      <td>54.203995</td>\n",
              "      <td>83.671304</td>\n",
              "      <td>0.327936</td>\n",
              "    </tr>\n",
              "    <tr>\n",
              "      <th>min</th>\n",
              "      <td>1.000000</td>\n",
              "      <td>20.000000</td>\n",
              "      <td>0.000000</td>\n",
              "      <td>0.000000</td>\n",
              "      <td>0.000000</td>\n",
              "      <td>2630.000000</td>\n",
              "      <td>1.000000</td>\n",
              "      <td>10.000000</td>\n",
              "      <td>0.000000</td>\n",
              "    </tr>\n",
              "    <tr>\n",
              "      <th>25%</th>\n",
              "      <td>95278.000000</td>\n",
              "      <td>25.000000</td>\n",
              "      <td>1.000000</td>\n",
              "      <td>15.000000</td>\n",
              "      <td>0.000000</td>\n",
              "      <td>24405.000000</td>\n",
              "      <td>29.000000</td>\n",
              "      <td>82.000000</td>\n",
              "      <td>0.000000</td>\n",
              "    </tr>\n",
              "    <tr>\n",
              "      <th>50%</th>\n",
              "      <td>190555.000000</td>\n",
              "      <td>36.000000</td>\n",
              "      <td>1.000000</td>\n",
              "      <td>28.000000</td>\n",
              "      <td>0.000000</td>\n",
              "      <td>31669.000000</td>\n",
              "      <td>133.000000</td>\n",
              "      <td>154.000000</td>\n",
              "      <td>0.000000</td>\n",
              "    </tr>\n",
              "    <tr>\n",
              "      <th>75%</th>\n",
              "      <td>285832.000000</td>\n",
              "      <td>49.000000</td>\n",
              "      <td>1.000000</td>\n",
              "      <td>35.000000</td>\n",
              "      <td>1.000000</td>\n",
              "      <td>39400.000000</td>\n",
              "      <td>152.000000</td>\n",
              "      <td>227.000000</td>\n",
              "      <td>0.000000</td>\n",
              "    </tr>\n",
              "    <tr>\n",
              "      <th>max</th>\n",
              "      <td>381109.000000</td>\n",
              "      <td>85.000000</td>\n",
              "      <td>1.000000</td>\n",
              "      <td>52.000000</td>\n",
              "      <td>1.000000</td>\n",
              "      <td>540165.000000</td>\n",
              "      <td>163.000000</td>\n",
              "      <td>299.000000</td>\n",
              "      <td>1.000000</td>\n",
              "    </tr>\n",
              "  </tbody>\n",
              "</table>\n",
              "</div>\n",
              "      <button class=\"colab-df-convert\" onclick=\"convertToInteractive('df-4329a945-3b07-4725-8009-60a9540f52bb')\"\n",
              "              title=\"Convert this dataframe to an interactive table.\"\n",
              "              style=\"display:none;\">\n",
              "        \n",
              "  <svg xmlns=\"http://www.w3.org/2000/svg\" height=\"24px\"viewBox=\"0 0 24 24\"\n",
              "       width=\"24px\">\n",
              "    <path d=\"M0 0h24v24H0V0z\" fill=\"none\"/>\n",
              "    <path d=\"M18.56 5.44l.94 2.06.94-2.06 2.06-.94-2.06-.94-.94-2.06-.94 2.06-2.06.94zm-11 1L8.5 8.5l.94-2.06 2.06-.94-2.06-.94L8.5 2.5l-.94 2.06-2.06.94zm10 10l.94 2.06.94-2.06 2.06-.94-2.06-.94-.94-2.06-.94 2.06-2.06.94z\"/><path d=\"M17.41 7.96l-1.37-1.37c-.4-.4-.92-.59-1.43-.59-.52 0-1.04.2-1.43.59L10.3 9.45l-7.72 7.72c-.78.78-.78 2.05 0 2.83L4 21.41c.39.39.9.59 1.41.59.51 0 1.02-.2 1.41-.59l7.78-7.78 2.81-2.81c.8-.78.8-2.07 0-2.86zM5.41 20L4 18.59l7.72-7.72 1.47 1.35L5.41 20z\"/>\n",
              "  </svg>\n",
              "      </button>\n",
              "      \n",
              "  <style>\n",
              "    .colab-df-container {\n",
              "      display:flex;\n",
              "      flex-wrap:wrap;\n",
              "      gap: 12px;\n",
              "    }\n",
              "\n",
              "    .colab-df-convert {\n",
              "      background-color: #E8F0FE;\n",
              "      border: none;\n",
              "      border-radius: 50%;\n",
              "      cursor: pointer;\n",
              "      display: none;\n",
              "      fill: #1967D2;\n",
              "      height: 32px;\n",
              "      padding: 0 0 0 0;\n",
              "      width: 32px;\n",
              "    }\n",
              "\n",
              "    .colab-df-convert:hover {\n",
              "      background-color: #E2EBFA;\n",
              "      box-shadow: 0px 1px 2px rgba(60, 64, 67, 0.3), 0px 1px 3px 1px rgba(60, 64, 67, 0.15);\n",
              "      fill: #174EA6;\n",
              "    }\n",
              "\n",
              "    [theme=dark] .colab-df-convert {\n",
              "      background-color: #3B4455;\n",
              "      fill: #D2E3FC;\n",
              "    }\n",
              "\n",
              "    [theme=dark] .colab-df-convert:hover {\n",
              "      background-color: #434B5C;\n",
              "      box-shadow: 0px 1px 3px 1px rgba(0, 0, 0, 0.15);\n",
              "      filter: drop-shadow(0px 1px 2px rgba(0, 0, 0, 0.3));\n",
              "      fill: #FFFFFF;\n",
              "    }\n",
              "  </style>\n",
              "\n",
              "      <script>\n",
              "        const buttonEl =\n",
              "          document.querySelector('#df-4329a945-3b07-4725-8009-60a9540f52bb button.colab-df-convert');\n",
              "        buttonEl.style.display =\n",
              "          google.colab.kernel.accessAllowed ? 'block' : 'none';\n",
              "\n",
              "        async function convertToInteractive(key) {\n",
              "          const element = document.querySelector('#df-4329a945-3b07-4725-8009-60a9540f52bb');\n",
              "          const dataTable =\n",
              "            await google.colab.kernel.invokeFunction('convertToInteractive',\n",
              "                                                     [key], {});\n",
              "          if (!dataTable) return;\n",
              "\n",
              "          const docLinkHtml = 'Like what you see? Visit the ' +\n",
              "            '<a target=\"_blank\" href=https://colab.research.google.com/notebooks/data_table.ipynb>data table notebook</a>'\n",
              "            + ' to learn more about interactive tables.';\n",
              "          element.innerHTML = '';\n",
              "          dataTable['output_type'] = 'display_data';\n",
              "          await google.colab.output.renderOutput(dataTable, element);\n",
              "          const docLink = document.createElement('div');\n",
              "          docLink.innerHTML = docLinkHtml;\n",
              "          element.appendChild(docLink);\n",
              "        }\n",
              "      </script>\n",
              "    </div>\n",
              "  </div>\n",
              "  "
            ],
            "text/plain": [
              "                  id            Age  ...        Vintage       Response\n",
              "count  381109.000000  381109.000000  ...  381109.000000  381109.000000\n",
              "mean   190555.000000      38.822584  ...     154.347397       0.122563\n",
              "std    110016.836208      15.511611  ...      83.671304       0.327936\n",
              "min         1.000000      20.000000  ...      10.000000       0.000000\n",
              "25%     95278.000000      25.000000  ...      82.000000       0.000000\n",
              "50%    190555.000000      36.000000  ...     154.000000       0.000000\n",
              "75%    285832.000000      49.000000  ...     227.000000       0.000000\n",
              "max    381109.000000      85.000000  ...     299.000000       1.000000\n",
              "\n",
              "[8 rows x 9 columns]"
            ]
          },
          "metadata": {},
          "execution_count": 12
        }
      ],
      "source": [
        "#Data Description\n",
        "df.describe()"
      ]
    },
    {
      "cell_type": "code",
      "execution_count": 13,
      "metadata": {
        "colab": {
          "base_uri": "https://localhost:8080/"
        },
        "id": "3x8bRrsj5SL7",
        "outputId": "7257ddaf-09c7-441b-ca27-adf4cc0fa0bb"
      },
      "outputs": [
        {
          "output_type": "execute_result",
          "data": {
            "text/plain": [
              "id                      0\n",
              "Gender                  0\n",
              "Age                     0\n",
              "Driving_License         0\n",
              "Region_Code             0\n",
              "Previously_Insured      0\n",
              "Vehicle_Age             0\n",
              "Vehicle_Damage          0\n",
              "Annual_Premium          0\n",
              "Policy_Sales_Channel    0\n",
              "Vintage                 0\n",
              "Response                0\n",
              "dtype: int64"
            ]
          },
          "metadata": {},
          "execution_count": 13
        }
      ],
      "source": [
        "#Checking for Missing Values in given dataset\n",
        "df.isna().sum()"
      ]
    },
    {
      "cell_type": "code",
      "execution_count": 14,
      "metadata": {
        "colab": {
          "base_uri": "https://localhost:8080/"
        },
        "id": "tohn3Dne5ZOz",
        "outputId": "f4aa2d5a-95a3-40d0-fee3-238655544cd8"
      },
      "outputs": [
        {
          "output_type": "execute_result",
          "data": {
            "text/plain": [
              "id                      381109\n",
              "Gender                       2\n",
              "Age                         66\n",
              "Driving_License              2\n",
              "Region_Code                 53\n",
              "Previously_Insured           2\n",
              "Vehicle_Age                  3\n",
              "Vehicle_Damage               2\n",
              "Annual_Premium           48838\n",
              "Policy_Sales_Channel       155\n",
              "Vintage                    290\n",
              "Response                     2\n",
              "dtype: int64"
            ]
          },
          "metadata": {},
          "execution_count": 14
        }
      ],
      "source": [
        "# Finding Unique Values for each Variable\n",
        "df.nunique()"
      ]
    },
    {
      "cell_type": "markdown",
      "metadata": {
        "id": "185eDgEZ500_"
      },
      "source": [
        "# <b> Data Visualization"
      ]
    },
    {
      "cell_type": "markdown",
      "metadata": {
        "id": "c_OSDoAHzFx8"
      },
      "source": [
        "Target feature"
      ]
    },
    {
      "cell_type": "code",
      "execution_count": 15,
      "metadata": {
        "colab": {
          "base_uri": "https://localhost:8080/",
          "height": 585
        },
        "id": "vjJ9qYIs6S1X",
        "outputId": "ab4bf9e3-20da-4bfa-b570-19ee120ba268"
      },
      "outputs": [
        {
          "output_type": "stream",
          "name": "stderr",
          "text": [
            "/usr/local/lib/python3.7/dist-packages/seaborn/_decorators.py:43: FutureWarning: Pass the following variable as a keyword arg: x. From version 0.12, the only valid positional argument will be `data`, and passing other arguments without an explicit keyword will result in an error or misinterpretation.\n",
            "  FutureWarning\n"
          ]
        },
        {
          "output_type": "execute_result",
          "data": {
            "text/plain": [
              "Text(0.5, 1.0, 'Percentage of Response variable')"
            ]
          },
          "metadata": {},
          "execution_count": 15
        },
        {
          "output_type": "display_data",
          "data": {
            "image/png": "[encoded data removed]",
            "text/plain": [
              "<Figure size 720x576 with 2 Axes>"
            ]
          },
          "metadata": {}
        }
      ],
      "source": [
        "#checking the distribution of target variable\n",
        "plt.subplot(1, 2, 1)\n",
        "sns.countplot(df['Response'])\n",
        "plt.title('Count of Target variable')\n",
        "\n",
        "plt.subplot(1,2,2)\n",
        "count = df['Response'].value_counts()\n",
        "count.plot.pie(autopct = '%1.1f%%',figsize = (10,8),explode = [0,0.1])\n",
        "\n",
        "plt.title('Percentage of Response variable')"
      ]
    },
    {
      "cell_type": "markdown",
      "metadata": {
        "id": "Zc21qVlfx3js"
      },
      "source": [
        "- From the above graph, we can see that the count of people not opting for the vehicle insurance is more than the ones opting for. \n"
      ]
    },
    {
      "cell_type": "markdown",
      "metadata": {
        "id": "FrQ6JE-LzK3P"
      },
      "source": [
        "Gender"
      ]
    },
    {
      "cell_type": "code",
      "execution_count": 16,
      "metadata": {
        "colab": {
          "base_uri": "https://localhost:8080/",
          "height": 439
        },
        "id": "lHpnER29wNNj",
        "outputId": "0920f926-e377-42ea-c0fc-65e0006b6a94"
      },
      "outputs": [
        {
          "output_type": "stream",
          "name": "stderr",
          "text": [
            "/usr/local/lib/python3.7/dist-packages/seaborn/_decorators.py:43: FutureWarning: Pass the following variable as a keyword arg: x. From version 0.12, the only valid positional argument will be `data`, and passing other arguments without an explicit keyword will result in an error or misinterpretation.\n",
            "  FutureWarning\n",
            "/usr/local/lib/python3.7/dist-packages/seaborn/_decorators.py:43: FutureWarning: Pass the following variable as a keyword arg: x. From version 0.12, the only valid positional argument will be `data`, and passing other arguments without an explicit keyword will result in an error or misinterpretation.\n",
            "  FutureWarning\n"
          ]
        },
        {
          "output_type": "display_data",
          "data": {
            "image/png": "[encoded data removed]",
            "text/plain": [
              "<Figure size 936x360 with 2 Axes>"
            ]
          },
          "metadata": {}
        }
      ],
      "source": [
        "#Checking the distribution of Gender variable and their responses\n",
        "plt.figure(figsize = (13,5))\n",
        "plt.subplot(1,2,1)\n",
        "sns.countplot(df['Gender'])\n",
        "plt.title(\"Distribution of gender\")\n",
        "plt.subplot(1,2,2)\n",
        "sns.countplot(df['Gender'], hue = df['Response'])\n",
        "plt.title(\"Responses of Male and Female\")\n",
        "plt.show()"
      ]
    },
    {
      "cell_type": "markdown",
      "metadata": {
        "id": "LKxi8hj6z-s_"
      },
      "source": [
        "- We can see that, the count of Male opting for the insurance is more than that of Female probably because of the assymetrical distribution of data in the given dataset."
      ]
    },
    {
      "cell_type": "markdown",
      "metadata": {
        "id": "_dhGLxou2hdE"
      },
      "source": [
        "Age variable"
      ]
    },
    {
      "cell_type": "code",
      "execution_count": 17,
      "metadata": {
        "colab": {
          "base_uri": "https://localhost:8080/",
          "height": 623
        },
        "id": "VOe5IJDhycPV",
        "outputId": "dc8c89bd-3a6f-438f-e6ed-c184d7982d00"
      },
      "outputs": [
        {
          "output_type": "execute_result",
          "data": {
            "text/plain": [
              "<matplotlib.axes._subplots.AxesSubplot at 0x7f5eef56f4d0>"
            ]
          },
          "metadata": {},
          "execution_count": 17
        },
        {
          "output_type": "display_data",
          "data": {
            "image/png": "[encoded data removed]",
            "text/plain": [
              "<Figure size 1440x720 with 1 Axes>"
            ]
          },
          "metadata": {}
        }
      ],
      "source": [
        "#Checking the distribution of age along with responses\n",
        "plt.figure(figsize=(20,10))\n",
        "sns.countplot(x='Age',hue='Response',data=df)"
      ]
    },
    {
      "cell_type": "markdown",
      "metadata": {
        "id": "jszPBtcQ401G"
      },
      "source": [
        "- We can see that people of age 28-55 tend to buy insurance more than the ones who doesn't fall under this category."
      ]
    },
    {
      "cell_type": "markdown",
      "metadata": {
        "id": "EmN_MpYH8fLQ"
      },
      "source": [
        "Driving License"
      ]
    },
    {
      "cell_type": "code",
      "execution_count": 18,
      "metadata": {
        "colab": {
          "base_uri": "https://localhost:8080/",
          "height": 599
        },
        "id": "uXi9vxlP8oB4",
        "outputId": "b5a05e28-55fc-4dff-cb63-21656df3ef7d"
      },
      "outputs": [
        {
          "output_type": "stream",
          "name": "stdout",
          "text": [
            "Percentage of  Driving_License feature\n",
            " \n",
            "1    99.786938\n",
            "0     0.213062\n",
            "Name: Driving_License, dtype: float64\n"
          ]
        },
        {
          "output_type": "stream",
          "name": "stderr",
          "text": [
            "/usr/local/lib/python3.7/dist-packages/seaborn/_decorators.py:43: FutureWarning: Pass the following variable as a keyword arg: x. From version 0.12, the only valid positional argument will be `data`, and passing other arguments without an explicit keyword will result in an error or misinterpretation.\n",
            "  FutureWarning\n",
            "/usr/local/lib/python3.7/dist-packages/seaborn/_decorators.py:43: FutureWarning: Pass the following variable as a keyword arg: x. From version 0.12, the only valid positional argument will be `data`, and passing other arguments without an explicit keyword will result in an error or misinterpretation.\n",
            "  FutureWarning\n"
          ]
        },
        {
          "output_type": "execute_result",
          "data": {
            "text/plain": [
              "<matplotlib.axes._subplots.AxesSubplot at 0x7f5eef25ac90>"
            ]
          },
          "metadata": {},
          "execution_count": 18
        },
        {
          "output_type": "display_data",
          "data": {
            "image/png": "[encoded data removed]",
            "text/plain": [
              "<Figure size 864x432 with 2 Axes>"
            ]
          },
          "metadata": {}
        }
      ],
      "source": [
        "#Checking the distribution of people with driving license along with the responses\n",
        "print(\"Percentage of  Driving_License feature\\n \")\n",
        "print(df['Driving_License'].value_counts()/len(df)*100)\n",
        "f,ax = plt.subplots(nrows=1,ncols=2,figsize=(12,6))\n",
        "axx = ax.flatten()\n",
        "plt.title(\"Count plot of Driving_License vs Response\")\n",
        "sns.countplot(df['Driving_License'],ax = axx[0],palette = 'rocket')\n",
        "sns.countplot('Driving_License', hue = 'Response',ax =axx[1],data = df)"
      ]
    },
    {
      "cell_type": "markdown",
      "metadata": {
        "id": "TGZAU_hUAOKq"
      },
      "source": [
        "- We can see that, the major chunk of people in our dataset have driving license(99%)"
      ]
    },
    {
      "cell_type": "markdown",
      "metadata": {
        "id": "c370WPB4AqcM"
      },
      "source": [
        "Previously insured"
      ]
    },
    {
      "cell_type": "code",
      "execution_count": 19,
      "metadata": {
        "colab": {
          "base_uri": "https://localhost:8080/",
          "height": 442
        },
        "id": "buE8_nVC_pik",
        "outputId": "ad605982-5eac-4c3d-cb24-03b7902a8b35"
      },
      "outputs": [
        {
          "output_type": "stream",
          "name": "stderr",
          "text": [
            "/usr/local/lib/python3.7/dist-packages/seaborn/_decorators.py:43: FutureWarning: Pass the following variable as a keyword arg: x. From version 0.12, the only valid positional argument will be `data`, and passing other arguments without an explicit keyword will result in an error or misinterpretation.\n",
            "  FutureWarning\n",
            "/usr/local/lib/python3.7/dist-packages/seaborn/_decorators.py:43: FutureWarning: Pass the following variable as a keyword arg: x. From version 0.12, the only valid positional argument will be `data`, and passing other arguments without an explicit keyword will result in an error or misinterpretation.\n",
            "  FutureWarning\n"
          ]
        },
        {
          "output_type": "execute_result",
          "data": {
            "text/plain": [
              "<matplotlib.axes._subplots.AxesSubplot at 0x7f5eef192d50>"
            ]
          },
          "metadata": {},
          "execution_count": 19
        },
        {
          "output_type": "display_data",
          "data": {
            "image/png": "[encoded data removed]",
            "text/plain": [
              "<Figure size 864x360 with 2 Axes>"
            ]
          },
          "metadata": {}
        }
      ],
      "source": [
        "#Checking the distribution of people if they were previously insured along with their responses\n",
        "f,ax = plt.subplots(nrows=1,ncols=2,figsize=(12,5))\n",
        "axx = ax.flatten()\n",
        "sns.countplot(df['Previously_Insured'],ax = axx[0])\n",
        "sns.countplot('Previously_Insured', hue = 'Response',ax =axx[1],data = df)"
      ]
    },
    {
      "cell_type": "markdown",
      "metadata": {
        "id": "7Z_yHCu_EPC2"
      },
      "source": [
        "- We can see that the people who were not insured previously are the ones who are buying the insurance now and there's a huge dip for the ones who were previously insured."
      ]
    },
    {
      "cell_type": "markdown",
      "metadata": {
        "id": "0MoO2bOIG3mc"
      },
      "source": [
        "Vehicle age"
      ]
    },
    {
      "cell_type": "code",
      "execution_count": 20,
      "metadata": {
        "colab": {
          "base_uri": "https://localhost:8080/",
          "height": 354
        },
        "id": "WRe8-cpJBNpL",
        "outputId": "4f838210-e38b-4355-c5f2-100d7f77e54c"
      },
      "outputs": [
        {
          "output_type": "stream",
          "name": "stderr",
          "text": [
            "/usr/local/lib/python3.7/dist-packages/seaborn/_decorators.py:43: FutureWarning: Pass the following variable as a keyword arg: x. From version 0.12, the only valid positional argument will be `data`, and passing other arguments without an explicit keyword will result in an error or misinterpretation.\n",
            "  FutureWarning\n"
          ]
        },
        {
          "output_type": "execute_result",
          "data": {
            "text/plain": [
              "<matplotlib.axes._subplots.AxesSubplot at 0x7f5eef16edd0>"
            ]
          },
          "metadata": {},
          "execution_count": 20
        },
        {
          "output_type": "display_data",
          "data": {
            "image/png": "[encoded data removed]",
            "text/plain": [
              "<Figure size 432x288 with 1 Axes>"
            ]
          },
          "metadata": {}
        }
      ],
      "source": [
        "#Checking the distribution of vehicle age along with previously insured\n",
        "sns.countplot(df[\"Vehicle_Age\"],hue=df[\"Previously_Insured\"])"
      ]
    },
    {
      "cell_type": "markdown",
      "metadata": {
        "id": "bH4p4F3nFFkF"
      },
      "source": [
        "- We can see that people with vehicle age less than 1 year are the ones who bought the insurance followed by the ones with vehicles which are 1-2 year old. And people with vehicle age greater than 2 years old are showing least interest in buying the insurance this time."
      ]
    },
    {
      "cell_type": "markdown",
      "metadata": {
        "id": "Ww3cis0BG68k"
      },
      "source": [
        "Vehicle damage"
      ]
    },
    {
      "cell_type": "code",
      "execution_count": 21,
      "metadata": {
        "colab": {
          "base_uri": "https://localhost:8080/",
          "height": 351
        },
        "id": "bi4YoguPHFmD",
        "outputId": "8b38fcec-593b-429c-b797-9b71148708ef"
      },
      "outputs": [
        {
          "output_type": "stream",
          "name": "stderr",
          "text": [
            "/usr/local/lib/python3.7/dist-packages/seaborn/_decorators.py:43: FutureWarning: Pass the following variable as a keyword arg: x. From version 0.12, the only valid positional argument will be `data`, and passing other arguments without an explicit keyword will result in an error or misinterpretation.\n",
            "  FutureWarning\n"
          ]
        },
        {
          "output_type": "display_data",
          "data": {
            "image/png": "[encoded data removed]",
            "text/plain": [
              "<Figure size 432x288 with 1 Axes>"
            ]
          },
          "metadata": {}
        }
      ],
      "source": [
        "#Checking the distribution of vehicle damage along with the responses\n",
        "plt.title(\"Plot of vechicle damage vs response\")\n",
        "sns.countplot('Vehicle_Damage', hue = 'Response',data = df)\n",
        "plt.show()"
      ]
    },
    {
      "cell_type": "markdown",
      "metadata": {
        "id": "CQejsukQHbUl"
      },
      "source": [
        "- We can see that people whose vehicles are damaged tend to buy insurance compared to the ones whose vehicles are not."
      ]
    },
    {
      "cell_type": "markdown",
      "metadata": {
        "id": "mxY9On4zII-f"
      },
      "source": [
        "Annual Premium"
      ]
    },
    {
      "cell_type": "code",
      "execution_count": 22,
      "metadata": {
        "colab": {
          "base_uri": "https://localhost:8080/",
          "height": 514
        },
        "id": "sP7LWrH5IKqE",
        "outputId": "1afaa9b8-2f63-46f0-e341-5df88cf74161"
      },
      "outputs": [
        {
          "output_type": "stream",
          "name": "stderr",
          "text": [
            "/usr/local/lib/python3.7/dist-packages/seaborn/_decorators.py:43: FutureWarning: Pass the following variable as a keyword arg: x. From version 0.12, the only valid positional argument will be `data`, and passing other arguments without an explicit keyword will result in an error or misinterpretation.\n",
            "  FutureWarning\n"
          ]
        },
        {
          "output_type": "display_data",
          "data": {
            "image/png": "[encoded data removed]",
            "text/plain": [
              "<Figure size 936x504 with 1 Axes>"
            ]
          },
          "metadata": {}
        }
      ],
      "source": [
        "#Checking the distribution of insurance premium\n",
        "plt.figure(figsize=(13,7))\n",
        "sns.boxplot(df['Annual_Premium'],color='green')\n",
        "plt.title(\"boxplot of Annual premium\")\n",
        "plt.show()"
      ]
    },
    {
      "cell_type": "code",
      "execution_count": 23,
      "metadata": {
        "colab": {
          "base_uri": "https://localhost:8080/",
          "height": 420
        },
        "id": "_x_KIpCzK0jT",
        "outputId": "ff677b00-3578-4dc5-ba97-b82b15c0e8ec"
      },
      "outputs": [
        {
          "output_type": "display_data",
          "data": {
            "image/png": "[encoded data removed]",
            "text/plain": [
              "<Figure size 720x360 with 2 Axes>"
            ]
          },
          "metadata": {}
        }
      ],
      "source": [
        "#Checking correlation between variables\n",
        "plt.figure(figsize=(10,5))\n",
        "sns.heatmap(df.corr(),annot=True)\n",
        "plt.show()"
      ]
    },
    {
      "cell_type": "code",
      "execution_count": 23,
      "metadata": {
        "id": "kjLT11TG0Ho9"
      },
      "outputs": [],
      "source": [
        ""
      ]
    },
    {
      "cell_type": "markdown",
      "metadata": {
        "id": "_2IEcLQl2Eww"
      },
      "source": [
        "## <b>Label Encoding"
      ]
    },
    {
      "cell_type": "code",
      "execution_count": 24,
      "metadata": {
        "id": "gEM_Q5ZK1tSu"
      },
      "outputs": [],
      "source": [
        "#Encoding categorical variables into numeric Values\n",
        "from sklearn.preprocessing import LabelEncoder\n",
        "labelEncoder= LabelEncoder()\n",
        "df['Gender'] = labelEncoder.fit_transform(df['Gender'])\n",
        "df['Vehicle_Age'] = labelEncoder.fit_transform(df['Vehicle_Age'])\n",
        "df['Vehicle_Damage'] = labelEncoder.fit_transform(df['Vehicle_Damage'])"
      ]
    },
    {
      "cell_type": "markdown",
      "metadata": {
        "id": "SFfcZM2oy52f"
      },
      "source": [
        "# Seperating Target and Independant Variable"
      ]
    },
    {
      "cell_type": "code",
      "execution_count": 25,
      "metadata": {
        "colab": {
          "base_uri": "https://localhost:8080/",
          "height": 206
        },
        "id": "Gi86C7UgK9bB",
        "outputId": "ecacf7cd-e6a2-4b73-a870-9722b92651dd"
      },
      "outputs": [
        {
          "output_type": "execute_result",
          "data": {
            "text/html": [
              "\n",
              "  <div id=\"df-46130f23-541e-4738-aa7e-4c5f2333148a\">\n",
              "    <div class=\"colab-df-container\">\n",
              "      <div>\n",
              "<style scoped>\n",
              "    .dataframe tbody tr th:only-of-type {\n",
              "        vertical-align: middle;\n",
              "    }\n",
              "\n",
              "    .dataframe tbody tr th {\n",
              "        vertical-align: top;\n",
              "    }\n",
              "\n",
              "    .dataframe thead th {\n",
              "        text-align: right;\n",
              "    }\n",
              "</style>\n",
              "<table border=\"1\" class=\"dataframe\">\n",
              "  <thead>\n",
              "    <tr style=\"text-align: right;\">\n",
              "      <th></th>\n",
              "      <th>id</th>\n",
              "      <th>Gender</th>\n",
              "      <th>Age</th>\n",
              "      <th>Driving_License</th>\n",
              "      <th>Region_Code</th>\n",
              "      <th>Previously_Insured</th>\n",
              "      <th>Vehicle_Age</th>\n",
              "      <th>Vehicle_Damage</th>\n",
              "      <th>Annual_Premium</th>\n",
              "      <th>Policy_Sales_Channel</th>\n",
              "      <th>Vintage</th>\n",
              "    </tr>\n",
              "  </thead>\n",
              "  <tbody>\n",
              "    <tr>\n",
              "      <th>0</th>\n",
              "      <td>1</td>\n",
              "      <td>1</td>\n",
              "      <td>44</td>\n",
              "      <td>1</td>\n",
              "      <td>28.0</td>\n",
              "      <td>0</td>\n",
              "      <td>2</td>\n",
              "      <td>1</td>\n",
              "      <td>40454.0</td>\n",
              "      <td>26.0</td>\n",
              "      <td>217</td>\n",
              "    </tr>\n",
              "    <tr>\n",
              "      <th>1</th>\n",
              "      <td>2</td>\n",
              "      <td>1</td>\n",
              "      <td>76</td>\n",
              "      <td>1</td>\n",
              "      <td>3.0</td>\n",
              "      <td>0</td>\n",
              "      <td>0</td>\n",
              "      <td>0</td>\n",
              "      <td>33536.0</td>\n",
              "      <td>26.0</td>\n",
              "      <td>183</td>\n",
              "    </tr>\n",
              "    <tr>\n",
              "      <th>2</th>\n",
              "      <td>3</td>\n",
              "      <td>1</td>\n",
              "      <td>47</td>\n",
              "      <td>1</td>\n",
              "      <td>28.0</td>\n",
              "      <td>0</td>\n",
              "      <td>2</td>\n",
              "      <td>1</td>\n",
              "      <td>38294.0</td>\n",
              "      <td>26.0</td>\n",
              "      <td>27</td>\n",
              "    </tr>\n",
              "    <tr>\n",
              "      <th>3</th>\n",
              "      <td>4</td>\n",
              "      <td>1</td>\n",
              "      <td>21</td>\n",
              "      <td>1</td>\n",
              "      <td>11.0</td>\n",
              "      <td>1</td>\n",
              "      <td>1</td>\n",
              "      <td>0</td>\n",
              "      <td>28619.0</td>\n",
              "      <td>152.0</td>\n",
              "      <td>203</td>\n",
              "    </tr>\n",
              "    <tr>\n",
              "      <th>4</th>\n",
              "      <td>5</td>\n",
              "      <td>0</td>\n",
              "      <td>29</td>\n",
              "      <td>1</td>\n",
              "      <td>41.0</td>\n",
              "      <td>1</td>\n",
              "      <td>1</td>\n",
              "      <td>0</td>\n",
              "      <td>27496.0</td>\n",
              "      <td>152.0</td>\n",
              "      <td>39</td>\n",
              "    </tr>\n",
              "  </tbody>\n",
              "</table>\n",
              "</div>\n",
              "      <button class=\"colab-df-convert\" onclick=\"convertToInteractive('df-46130f23-541e-4738-aa7e-4c5f2333148a')\"\n",
              "              title=\"Convert this dataframe to an interactive table.\"\n",
              "              style=\"display:none;\">\n",
              "        \n",
              "  <svg xmlns=\"http://www.w3.org/2000/svg\" height=\"24px\"viewBox=\"0 0 24 24\"\n",
              "       width=\"24px\">\n",
              "    <path d=\"M0 0h24v24H0V0z\" fill=\"none\"/>\n",
              "    <path d=\"M18.56 5.44l.94 2.06.94-2.06 2.06-.94-2.06-.94-.94-2.06-.94 2.06-2.06.94zm-11 1L8.5 8.5l.94-2.06 2.06-.94-2.06-.94L8.5 2.5l-.94 2.06-2.06.94zm10 10l.94 2.06.94-2.06 2.06-.94-2.06-.94-.94-2.06-.94 2.06-2.06.94z\"/><path d=\"M17.41 7.96l-1.37-1.37c-.4-.4-.92-.59-1.43-.59-.52 0-1.04.2-1.43.59L10.3 9.45l-7.72 7.72c-.78.78-.78 2.05 0 2.83L4 21.41c.39.39.9.59 1.41.59.51 0 1.02-.2 1.41-.59l7.78-7.78 2.81-2.81c.8-.78.8-2.07 0-2.86zM5.41 20L4 18.59l7.72-7.72 1.47 1.35L5.41 20z\"/>\n",
              "  </svg>\n",
              "      </button>\n",
              "      \n",
              "  <style>\n",
              "    .colab-df-container {\n",
              "      display:flex;\n",
              "      flex-wrap:wrap;\n",
              "      gap: 12px;\n",
              "    }\n",
              "\n",
              "    .colab-df-convert {\n",
              "      background-color: #E8F0FE;\n",
              "      border: none;\n",
              "      border-radius: 50%;\n",
              "      cursor: pointer;\n",
              "      display: none;\n",
              "      fill: #1967D2;\n",
              "      height: 32px;\n",
              "      padding: 0 0 0 0;\n",
              "      width: 32px;\n",
              "    }\n",
              "\n",
              "    .colab-df-convert:hover {\n",
              "      background-color: #E2EBFA;\n",
              "      box-shadow: 0px 1px 2px rgba(60, 64, 67, 0.3), 0px 1px 3px 1px rgba(60, 64, 67, 0.15);\n",
              "      fill: #174EA6;\n",
              "    }\n",
              "\n",
              "    [theme=dark] .colab-df-convert {\n",
              "      background-color: #3B4455;\n",
              "      fill: #D2E3FC;\n",
              "    }\n",
              "\n",
              "    [theme=dark] .colab-df-convert:hover {\n",
              "      background-color: #434B5C;\n",
              "      box-shadow: 0px 1px 3px 1px rgba(0, 0, 0, 0.15);\n",
              "      filter: drop-shadow(0px 1px 2px rgba(0, 0, 0, 0.3));\n",
              "      fill: #FFFFFF;\n",
              "    }\n",
              "  </style>\n",
              "\n",
              "      <script>\n",
              "        const buttonEl =\n",
              "          document.querySelector('#df-46130f23-541e-4738-aa7e-4c5f2333148a button.colab-df-convert');\n",
              "        buttonEl.style.display =\n",
              "          google.colab.kernel.accessAllowed ? 'block' : 'none';\n",
              "\n",
              "        async function convertToInteractive(key) {\n",
              "          const element = document.querySelector('#df-46130f23-541e-4738-aa7e-4c5f2333148a');\n",
              "          const dataTable =\n",
              "            await google.colab.kernel.invokeFunction('convertToInteractive',\n",
              "                                                     [key], {});\n",
              "          if (!dataTable) return;\n",
              "\n",
              "          const docLinkHtml = 'Like what you see? Visit the ' +\n",
              "            '<a target=\"_blank\" href=https://colab.research.google.com/notebooks/data_table.ipynb>data table notebook</a>'\n",
              "            + ' to learn more about interactive tables.';\n",
              "          element.innerHTML = '';\n",
              "          dataTable['output_type'] = 'display_data';\n",
              "          await google.colab.output.renderOutput(dataTable, element);\n",
              "          const docLink = document.createElement('div');\n",
              "          docLink.innerHTML = docLinkHtml;\n",
              "          element.appendChild(docLink);\n",
              "        }\n",
              "      </script>\n",
              "    </div>\n",
              "  </div>\n",
              "  "
            ],
            "text/plain": [
              "   id  Gender  Age  ...  Annual_Premium  Policy_Sales_Channel  Vintage\n",
              "0   1       1   44  ...         40454.0                  26.0      217\n",
              "1   2       1   76  ...         33536.0                  26.0      183\n",
              "2   3       1   47  ...         38294.0                  26.0       27\n",
              "3   4       1   21  ...         28619.0                 152.0      203\n",
              "4   5       0   29  ...         27496.0                 152.0       39\n",
              "\n",
              "[5 rows x 11 columns]"
            ]
          },
          "metadata": {},
          "execution_count": 25
        }
      ],
      "source": [
        "x=df.drop(['Response'],axis=1) \n",
        "y=df['Response']   \n",
        "x.head()   "
      ]
    },
    {
      "cell_type": "markdown",
      "metadata": {
        "id": "C3T9tOJy2I8V"
      },
      "source": [
        "## <b>Feature Selection"
      ]
    },
    {
      "cell_type": "code",
      "execution_count": 26,
      "metadata": {
        "id": "wnm7OMIRIYB0"
      },
      "outputs": [],
      "source": [
        "# from sklearn.ensemble import ExtraTreesClassifier\n",
        "# model = ExtraTreesClassifier()\n",
        "# model.fit(x,y)\n",
        "# print(model.feature_importances_)\n"
      ]
    },
    {
      "cell_type": "code",
      "execution_count": 27,
      "metadata": {
        "id": "kASRNa2l1ePZ"
      },
      "outputs": [],
      "source": [
        "# feat_importances = pd.Series(model.feature_importances_, index=x.columns)\n",
        "# feat_importances.nlargest(11).plot(kind='barh')\n",
        "# plt.show()"
      ]
    },
    {
      "cell_type": "markdown",
      "metadata": {
        "id": "ciJ6YtIQ3Ecx"
      },
      "source": [
        "***We can remove less important features (Driving_License, Gender) from the data set***"
      ]
    },
    {
      "cell_type": "code",
      "execution_count": 28,
      "metadata": {
        "id": "RtZ7joGH26ad"
      },
      "outputs": [],
      "source": [
        "x=x.drop(['Driving_License','Gender'],axis=1)"
      ]
    },
    {
      "cell_type": "code",
      "execution_count": 29,
      "metadata": {
        "colab": {
          "base_uri": "https://localhost:8080/"
        },
        "id": "g_O9xy1r3CA-",
        "outputId": "2c25e331-8684-4c7e-de92-77a78d48ef26"
      },
      "outputs": [
        {
          "output_type": "execute_result",
          "data": {
            "text/plain": [
              "0    334399\n",
              "1     46710\n",
              "Name: Response, dtype: int64"
            ]
          },
          "metadata": {},
          "execution_count": 29
        }
      ],
      "source": [
        "df[\"Response\"].value_counts()"
      ]
    },
    {
      "cell_type": "markdown",
      "metadata": {
        "id": "FCj0ungL3oNy"
      },
      "source": [
        "**As we see, Target Variable category is unevenly distributed. Hence we need to handle this imbalanced data.**"
      ]
    },
    {
      "cell_type": "markdown",
      "metadata": {
        "id": "_cuBVmt34OmZ"
      },
      "source": [
        "## Handling Data Imbalance"
      ]
    },
    {
      "cell_type": "code",
      "source": [
        "from imblearn.over_sampling import SMOTE\n",
        "cols    = df.columns\n",
        "target_col = ['Response']\n",
        "\n",
        "smote_X = x\n",
        "smote_Y = y\n",
        "\n",
        "#Split train and test data\n",
        "smote_train_X,smote_test_X,smote_train_Y,smote_test_Y = train_test_split(smote_X,smote_Y,test_size = .25 ,random_state = 111)\n",
        "smote = SMOTE(random_state = 0)\n",
        "x_smote, y_smote = smote.fit_resample(xtrain, ytrain)"
      ],
      "metadata": {
        "id": "6lbxH_iPV1Mo"
      },
      "execution_count": 33,
      "outputs": []
    },
    {
      "cell_type": "markdown",
      "metadata": {
        "id": "vaycuxrM7fNz"
      },
      "source": [
        "## Spliting of data into train and test data"
      ]
    },
    {
      "cell_type": "code",
      "execution_count": 37,
      "metadata": {
        "id": "BprG77ib7QGF"
      },
      "outputs": [],
      "source": [
        "#dividing the dataset into training and testing\n",
        "xtrain,xtest,ytrain,ytest=train_test_split(x,y,test_size=.30,random_state=0)\n",
        "\n"
      ]
    },
    {
      "cell_type": "markdown",
      "metadata": {
        "id": "AFhwsZAf73kk"
      },
      "source": [
        "## Scaling"
      ]
    },
    {
      "cell_type": "code",
      "execution_count": 36,
      "metadata": {
        "colab": {
          "base_uri": "https://localhost:8080/"
        },
        "id": "2PPky5ZA7hAI",
        "outputId": "505beb10-4c40-43b3-935c-b03092ac8f8b"
      },
      "outputs": [
        {
          "output_type": "execute_result",
          "data": {
            "text/plain": [
              "array([[ 0.26728713, -0.95475991, -1.39062523, ...,  0.47576066,\n",
              "         0.73670425,  1.34732072],\n",
              "       [ 0.03602199,  0.14106638,  0.12146714, ..., -0.32864093,\n",
              "         0.22013717,  0.02118141],\n",
              "       [ 0.11711614,  2.13933784, -1.39062523, ...,  4.82773917,\n",
              "        -1.58784763, -1.00627787],\n",
              "       ...,\n",
              "       [-1.27489254, -0.82583917, -0.8613929 , ...,  0.49794502,\n",
              "         0.73670425,  1.02474629],\n",
              "       [ 1.23119032,  0.65674934, -0.0297421 , ...,  0.38253974,\n",
              "         0.93964132, -0.98238347],\n",
              "       [-1.4594974 ,  0.72120971,  0.65069947, ..., -0.18441344,\n",
              "         0.22013717, -0.0982906 ]])"
            ]
          },
          "metadata": {},
          "execution_count": 36
        }
      ],
      "source": [
        "#feature scaling\n",
        "from sklearn.preprocessing import StandardScaler\n",
        "scaler=StandardScaler()\n",
        "xtrain=scaler.fit_transform(xtrain)\n",
        "xtest=scaler.transform(xtest)\n",
        "xtest"
      ]
    },
    {
      "cell_type": "markdown",
      "metadata": {
        "id": "chov2N0J9j41"
      },
      "source": [
        "## Model Training & Evaluation"
      ]
    },
    {
      "cell_type": "markdown",
      "metadata": {
        "id": "US6axlXM9o1Y"
      },
      "source": [
        "## Logistic Regression"
      ]
    },
    {
      "cell_type": "code",
      "execution_count": null,
      "metadata": {
        "id": "5r2RwjcDI4wS"
      },
      "outputs": [],
      "source": [
        "from imblearn.over_sampling import RandomOverSampler\n",
        "from collections import Counter\n",
        "from sklearn.preprocessing import StandardScaler\n",
        "from sklearn.linear_model import LogisticRegression\n",
        "from sklearn.metrics import precision_score,recall_score,accuracy_score,f1_score,confusion_matrix,roc_auc_score,classification_report\n",
        "from sklearn.ensemble import RandomForestClassifier\n",
        "from xgboost import XGBClassifier"
      ]
    },
    {
      "cell_type": "code",
      "execution_count": null,
      "metadata": {
        "id": "rJOoSPfj-Q6o"
      },
      "outputs": [],
      "source": [
        "# Logistic Regression Algorithm\n",
        "logreg=LogisticRegression()\n",
        "logreg.fit(xtrain,ytrain)\n",
        "\n",
        "# Model Prediction\n",
        "ypred=logreg.predict(xtest)\n"
      ]
    },
    {
      "cell_type": "code",
      "source": [
        "logreg=LogisticRegression()\n",
        "logreg.fit(x_smote,y_smote)\n",
        "\n",
        "# Model Prediction\n",
        "ypredsmote=logreg.predict(xtest)"
      ],
      "metadata": {
        "id": "djsl9TrtWlr5"
      },
      "execution_count": null,
      "outputs": []
    },
    {
      "cell_type": "code",
      "source": [
        "print(f\"Logistic regression \\n{classification_report(ytest, ypred)}\")"
      ],
      "metadata": {
        "id": "5GHfrEsdXTMl"
      },
      "execution_count": null,
      "outputs": []
    },
    {
      "cell_type": "code",
      "execution_count": null,
      "metadata": {
        "id": "A_NKdV_v_6Tr"
      },
      "outputs": [],
      "source": [
        "# Model Evaluation\n",
        "print(f\"Logistic regression \\n{classification_report(ytest, ypredsmote)}\")"
      ]
    },
    {
      "cell_type": "markdown",
      "metadata": {
        "id": "-sw90YTNAa9v"
      },
      "source": [
        "## Decision Tree Classifier"
      ]
    },
    {
      "cell_type": "code",
      "execution_count": 38,
      "metadata": {
        "id": "7WCi5lf7B69Y"
      },
      "outputs": [],
      "source": [
        "from sklearn.linear_model import LogisticRegression\n",
        "from sklearn.neighbors import KNeighborsClassifier\n",
        "from sklearn.svm import SVC\n",
        "from sklearn.tree import DecisionTreeClassifier\n",
        "from sklearn.metrics import classification_report"
      ]
    },
    {
      "cell_type": "code",
      "execution_count": 39,
      "metadata": {
        "colab": {
          "base_uri": "https://localhost:8080/"
        },
        "id": "kzx-MDb7Aaj8",
        "outputId": "9ee07591-71c0-4e20-85da-403d578aa78d"
      },
      "outputs": [
        {
          "output_type": "stream",
          "name": "stdout",
          "text": [
            "Name -: DT-gini  \n",
            "              precision    recall  f1-score   support\n",
            "\n",
            "           0       0.90      0.89      0.90    100241\n",
            "           1       0.29      0.31      0.30     14092\n",
            "\n",
            "    accuracy                           0.82    114333\n",
            "   macro avg       0.60      0.60      0.60    114333\n",
            "weighted avg       0.83      0.82      0.82    114333\n",
            "\n",
            "Name -: DT-entropy  \n",
            "              precision    recall  f1-score   support\n",
            "\n",
            "           0       0.90      0.90      0.90    100241\n",
            "           1       0.29      0.31      0.30     14092\n",
            "\n",
            "    accuracy                           0.82    114333\n",
            "   macro avg       0.60      0.60      0.60    114333\n",
            "weighted avg       0.83      0.82      0.83    114333\n",
            "\n"
          ]
        }
      ],
      "source": [
        "models = []\n",
        "models.append((\"DT-gini  \", DecisionTreeClassifier(criterion=\"gini\")))\n",
        "models.append((\"DT-entropy  \", DecisionTreeClassifier(criterion=\"entropy\")))\n",
        "\n",
        "\n",
        "for name, model in models:\n",
        "    model.fit(xtrain, ytrain)\n",
        "    ypred= model.predict(xtest)\n",
        "    print(f\"Name -: {name}\\n{classification_report(ytest, ypred)}\")"
      ]
    },
    {
      "cell_type": "code",
      "source": [
        "models = []\n",
        "models.append((\"DT-gini  \", DecisionTreeClassifier(criterion=\"gini\")))\n",
        "models.append((\"DT-entropy  \", DecisionTreeClassifier(criterion=\"entropy\")))\n",
        "\n",
        "\n",
        "for name, model in models:\n",
        "    model.fit(x_smote, y_smote)\n",
        "    ypredsmote= model.predict(xtest)\n",
        "    print(f\"Name -: {name}\\n{classification_report(ytest, ypredsmote)}\")"
      ],
      "metadata": {
        "colab": {
          "base_uri": "https://localhost:8080/"
        },
        "id": "W-NLsv7lXf5D",
        "outputId": "38e11ac4-6528-4cde-bf64-f025171bb986"
      },
      "execution_count": 40,
      "outputs": [
        {
          "output_type": "stream",
          "name": "stdout",
          "text": [
            "Name -: DT-gini  \n",
            "              precision    recall  f1-score   support\n",
            "\n",
            "           0       0.91      0.88      0.89    100241\n",
            "           1       0.29      0.35      0.32     14092\n",
            "\n",
            "    accuracy                           0.82    114333\n",
            "   macro avg       0.60      0.62      0.61    114333\n",
            "weighted avg       0.83      0.82      0.82    114333\n",
            "\n",
            "Name -: DT-entropy  \n",
            "              precision    recall  f1-score   support\n",
            "\n",
            "           0       0.91      0.88      0.89    100241\n",
            "           1       0.29      0.34      0.31     14092\n",
            "\n",
            "    accuracy                           0.82    114333\n",
            "   macro avg       0.60      0.61      0.60    114333\n",
            "weighted avg       0.83      0.82      0.82    114333\n",
            "\n"
          ]
        }
      ]
    },
    {
      "cell_type": "code",
      "execution_count": null,
      "metadata": {
        "id": "slwpr4xM94VB"
      },
      "outputs": [],
      "source": [
        "# Model Evaluation\n",
        "print(f\"Decision Tree Classifier \\n{classification_report(ytest, ypred)}\")"
      ]
    },
    {
      "cell_type": "code",
      "source": [
        "print(f\"Decision Tree Classifier \\n{classification_report(ytest, ypredsmote)}\")"
      ],
      "metadata": {
        "colab": {
          "base_uri": "https://localhost:8080/"
        },
        "id": "ImmL5uczYZ0B",
        "outputId": "1b97e89b-d073-4cdd-8738-b9af6e4729e7"
      },
      "execution_count": 41,
      "outputs": [
        {
          "output_type": "stream",
          "name": "stdout",
          "text": [
            "Decision Tree Classifier \n",
            "              precision    recall  f1-score   support\n",
            "\n",
            "           0       0.91      0.88      0.89    100241\n",
            "           1       0.29      0.34      0.31     14092\n",
            "\n",
            "    accuracy                           0.82    114333\n",
            "   macro avg       0.60      0.61      0.60    114333\n",
            "weighted avg       0.83      0.82      0.82    114333\n",
            "\n"
          ]
        }
      ]
    },
    {
      "cell_type": "markdown",
      "metadata": {
        "id": "Sd5xK5Z2BYkL"
      },
      "source": [
        "## Random Forest Classifier"
      ]
    },
    {
      "cell_type": "code",
      "execution_count": null,
      "metadata": {
        "id": "kuPJJWZuBOYl"
      },
      "outputs": [],
      "source": [
        "# Random Forest Classifier Algorithm\n",
        "random_forest=RandomForestClassifier()\n",
        "random_forest.fit(xtrain,ytrain)\n",
        "\n",
        "# Model Prediction\n",
        "ypred=random_forest.predict(xtest)"
      ]
    },
    {
      "cell_type": "code",
      "execution_count": null,
      "metadata": {
        "id": "DcuDHZOtCduy"
      },
      "outputs": [],
      "source": [
        "# Model Evaluation\n",
        "from sklearn import metrics\n",
        "print(f\"Random Forest Classifier \\n{classification_report(ytest, ypred)}\")\n",
        "print(metrics.confusion_matrix(ytest, ypred))"
      ]
    },
    {
      "cell_type": "markdown",
      "metadata": {
        "id": "FGJHyolBGjLg"
      },
      "source": [
        "## Hyperparameter Tunning"
      ]
    },
    {
      "cell_type": "code",
      "execution_count": null,
      "metadata": {
        "id": "B1XIPv3aDedI"
      },
      "outputs": [],
      "source": [
        "from sklearn.model_selection import train_test_split, RandomizedSearchCV, StratifiedKFold, KFold, GridSearchCV\n",
        "random_search = {'criterion': ['entropy', 'gini'],\n",
        "               'max_depth': [2,3,4,5,6,7,10],\n",
        "               'min_samples_leaf': [4, 6, 8],\n",
        "               'min_samples_split': [5, 7,10],\n",
        "               'n_estimators': [300]}\n",
        "\n",
        "random_f = RandomForestClassifier()\n",
        "model = RandomizedSearchCV(estimator = random_f, param_distributions = random_search, n_iter = 10, \n",
        "                               cv = 4, verbose= 1, random_state= 101, n_jobs = -1)\n",
        "model.fit(xtrain,ytrain)"
      ]
    },
    {
      "cell_type": "code",
      "execution_count": null,
      "metadata": {
        "id": "Kxvs39GiG0XZ"
      },
      "outputs": [],
      "source": [
        ""
      ]
    }
  ],
  "metadata": {
    "colab": {
      "collapsed_sections": [],
      "name": "All stars - ML -  Health insurance cross sell",
      "provenance": [],
      "include_colab_link": true
    },
    "kernelspec": {
      "display_name": "Python 3",
      "name": "python3"
    },
    "language_info": {
      "name": "python"
    }
  },
  "nbformat": 4,
  "nbformat_minor": 0
}